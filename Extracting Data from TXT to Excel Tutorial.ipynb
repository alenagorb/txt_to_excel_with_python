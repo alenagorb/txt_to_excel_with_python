{
 "cells": [
  {
   "cell_type": "code",
   "execution_count": 9,
   "id": "38d25f4e",
   "metadata": {},
   "outputs": [
    {
     "name": "stdout",
     "output_type": "stream",
     "text": [
      "Vim\n",
      "474\n"
     ]
    }
   ],
   "source": [
    "#Step 1: Get the data (protein name and length) for one protein\n",
    "\n",
    "#Imports\n",
    "import os\n",
    "\n",
    "#Ensure that you are in the right folder where your txt file is\n",
    "os.chdir(\"C:/Users/alena/OneDrive - King's College London/Desktop/YouTube Channel Materials/Video 1\")\n",
    "\n",
    "#Open the txt file in read-only mode with a context manager\n",
    "\n",
    "with open(\"string_protein_sequences.fa\", \"r\") as f:\n",
    "#Loop through each line in the file\n",
    "    for line in f:\n",
    "        if line.startswith(\">10090.ENSMUSP\"): #get the name of the protein\n",
    "            start = line.find(\"(\")\n",
    "            end = line.find(\")\")\n",
    "            protein_name = line[start+1:end]\n",
    "            protein_length = 0 #For each new protein initialization the protein length\n",
    "        else:\n",
    "            protein_length += len(line.rstrip()) #rstrip is not necessary here, but is helpful to have if unsure (removes trailing characters)\n",
    "\n",
    "print(protein_name)\n",
    "print(protein_length)"
   ]
  },
  {
   "cell_type": "code",
   "execution_count": 10,
   "id": "095d577d",
   "metadata": {},
   "outputs": [
    {
     "name": "stdout",
     "output_type": "stream",
     "text": [
      "{'Actb': 382, 'Actc1': 384, 'Actg1': 382, 'Apoe': 317, 'Col1a1': 1478, 'Col1a2': 1395, 'Parva': 379, 'Pcolce': 476, 'Pdia3': 514, 'Pebp1': 191, 'Ppia': 167, 'Ppib': 220, 'Prdx1': 203, 'Ptgds': 193, 'Rpl32': 138, 'Serpina3n': 425, 'Sod3': 256, 'Tpm4': 253, 'Trp53bp1': 2002, 'Vim': 474}\n"
     ]
    }
   ],
   "source": [
    "#Step 2: If you can do it for one, you can do it for many\n",
    "\n",
    "#Create an empty dictionary to store all protein names and corresponding protein lengths from the file\n",
    "\n",
    "protein_data = {} #empty dictionary\n",
    "\n",
    "with open(\"string_protein_sequences.fa\", \"r\") as f:\n",
    "#Loop through each line in the file\n",
    "    for line in f:\n",
    "        if line.startswith(\">10090.ENSMUSP\"):\n",
    "            start = line.find(\"(\")\n",
    "            end = line.find(\")\")\n",
    "            protein_name = line[start+1:end]\n",
    "            protein_data[protein_name] = 0\n",
    "        else:\n",
    "            protein_data[protein_name]+=len(line.rstrip())\n",
    "\n",
    "print(protein_data)"
   ]
  },
  {
   "cell_type": "code",
   "execution_count": 13,
   "id": "faf59e23",
   "metadata": {},
   "outputs": [],
   "source": [
    "#Step 3: Convert your dictionary into dataframe and save as an excel file\n",
    "\n",
    "#Import pandas library\n",
    "import pandas as pd\n",
    "\n",
    "#Convert the dictionary to dataframe with Protein column containing protein names and Protein Length containing protein lengths\n",
    "df = pd.DataFrame({\"Protein\": protein_data.keys(), \"Protein Length\": protein_data.values()})\n",
    "df.set_index(\"Protein\", inplace=True)\n",
    "df.to_excel(\"Protein names and lengths.xlsx\")"
   ]
  },
  {
   "cell_type": "code",
   "execution_count": 14,
   "id": "ab291386",
   "metadata": {},
   "outputs": [],
   "source": [
    "#Step 4: Put everything together into a function so you can use this throughout your scripts\n",
    "\n",
    "#Imports\n",
    "import os\n",
    "import pandas as pd\n",
    "\n",
    "os.chdir(\"C:/Users/alena/OneDrive - King's College London/Desktop/YouTube Channel Materials/Video 1\")\n",
    "\n",
    "#Define your function and what variables it will take in (txt file and excel in this case)\n",
    "def protein_table(original_txt_file, new_excel_file):\n",
    "    protein_data = {} #empty dictionary\n",
    "\n",
    "    with open(original_txt_file, \"r\") as f:\n",
    "    #Loop through each line in the file\n",
    "        for line in f:\n",
    "            if line.startswith(\">10090.ENSMUSP\"):\n",
    "                start = line.find(\"(\")\n",
    "                end = line.find(\")\")\n",
    "                protein_name = line[start+1:end]\n",
    "                protein_data[protein_name] = 0\n",
    "            else:\n",
    "                protein_data[protein_name]+=len(line.rstrip())\n",
    "\n",
    "    #Convert the dictionary to dataframe with Protein column containing protein names and Protein Length containing protein lengths\n",
    "    df = pd.DataFrame({\"Protein\": protein_data.keys(), \"Protein Length\": protein_data.values()})\n",
    "    df.set_index(\"Protein\", inplace=True)\n",
    "    df.to_excel(new_excel_file)\n",
    "    \n",
    "protein_table(\"string_protein_sequences.fa\", \"Protein names and lengths.xlsx\")"
   ]
  }
 ],
 "metadata": {
  "kernelspec": {
   "display_name": "Python 3 (ipykernel)",
   "language": "python",
   "name": "python3"
  },
  "language_info": {
   "codemirror_mode": {
    "name": "ipython",
    "version": 3
   },
   "file_extension": ".py",
   "mimetype": "text/x-python",
   "name": "python",
   "nbconvert_exporter": "python",
   "pygments_lexer": "ipython3",
   "version": "3.8.12"
  }
 },
 "nbformat": 4,
 "nbformat_minor": 5
}
